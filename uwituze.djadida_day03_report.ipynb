{
 "cells": [
  {
   "cell_type": "markdown",
   "id": "7678eb1d-d7aa-43b7-b124-22b8fda83b7c",
   "metadata": {},
   "source": [
    "## Strings and files"
   ]
  },
  {
   "cell_type": "code",
   "execution_count": 11,
   "id": "ecdd4f71-b493-4db8-8d1e-3d9fe0030cb4",
   "metadata": {},
   "outputs": [],
   "source": [
    "string_1 = \"Will you be at the meeting tonight?\"\n",
    "string_2 = \"Yes\", 'he replies.'"
   ]
  },
  {
   "cell_type": "code",
   "execution_count": 12,
   "id": "75cce40b-ea63-4462-8e82-c6b1a918a684",
   "metadata": {},
   "outputs": [
    {
     "name": "stdout",
     "output_type": "stream",
     "text": [
      "Will you be at the meeting tonight?\n"
     ]
    }
   ],
   "source": [
    "print(string_1)"
   ]
  },
  {
   "cell_type": "code",
   "execution_count": 13,
   "id": "5fdb6774-05a6-43c8-a1d4-01e04a7e76a1",
   "metadata": {},
   "outputs": [
    {
     "name": "stdout",
     "output_type": "stream",
     "text": [
      "('Yes', 'he replies.')\n"
     ]
    }
   ],
   "source": [
    "print(string_2)"
   ]
  },
  {
   "cell_type": "markdown",
   "id": "e50ac861-9b24-44b6-934a-bc356edb5c97",
   "metadata": {},
   "source": [
    "## Indexing"
   ]
  },
  {
   "cell_type": "code",
   "execution_count": 15,
   "id": "bd2416c1-524e-4359-980b-4526e85118c1",
   "metadata": {},
   "outputs": [
    {
     "data": {
      "text/plain": [
       "'W'"
      ]
     },
     "execution_count": 15,
     "metadata": {},
     "output_type": "execute_result"
    }
   ],
   "source": [
    "[0]"
   ]
  },
  {
   "cell_type": "code",
   "execution_count": 16,
   "id": "e8d63b3b-1442-4e31-a4f6-41bb690263ca",
   "metadata": {},
   "outputs": [
    {
     "data": {
      "text/plain": [
       "'l'"
      ]
     },
     "execution_count": 16,
     "metadata": {},
     "output_type": "execute_result"
    }
   ],
   "source": [
    "string_1[2]"
   ]
  },
  {
   "cell_type": "code",
   "execution_count": 17,
   "id": "4130ea02-ac7c-4c1e-80b5-efd56fbab055",
   "metadata": {},
   "outputs": [
    {
     "name": "stdout",
     "output_type": "stream",
     "text": [
      "Will you be at the meeting tonight?\n",
      "The second character of my string is i\n"
     ]
    }
   ],
   "source": [
    "print(string_1)\n",
    "print(\"The second character of my string is\", string_1[1])"
   ]
  },
  {
   "cell_type": "code",
   "execution_count": 18,
   "id": "bbd8a4d6-abdb-4547-bc32-ecc5c884d77b",
   "metadata": {},
   "outputs": [
    {
     "name": "stdout",
     "output_type": "stream",
     "text": [
      "Will you be at the meeting tonight?\n",
      "The second character of my string is ?\n"
     ]
    }
   ],
   "source": [
    "print(string_1)\n",
    "print(\"The second character of my string is\", string_1[-1])"
   ]
  },
  {
   "cell_type": "markdown",
   "id": "d6c90dc5-2237-433f-99f1-2eaa3b35fd03",
   "metadata": {},
   "source": [
    "## Slicing"
   ]
  },
  {
   "cell_type": "code",
   "execution_count": 20,
   "id": "6be49bbc-6c12-47c9-90f3-680be848b8a2",
   "metadata": {},
   "outputs": [
    {
     "name": "stdout",
     "output_type": "stream",
     "text": [
      "Will you be at the meeting tonight?\n"
     ]
    },
    {
     "data": {
      "text/plain": [
       "'l o'"
      ]
     },
     "execution_count": 20,
     "metadata": {},
     "output_type": "execute_result"
    }
   ],
   "source": [
    "print(string_1)\n",
    "string_1[2:8:2]"
   ]
  },
  {
   "cell_type": "code",
   "execution_count": 23,
   "id": "5f16f6b0-9509-40d8-b8e6-aa004a87de05",
   "metadata": {},
   "outputs": [
    {
     "data": {
      "text/plain": [
       "'loh'"
      ]
     },
     "execution_count": 23,
     "metadata": {},
     "output_type": "execute_result"
    }
   ],
   "source": [
    "string_3 = \"hellothisismypythoncode\"\n",
    "string_3[2:8:2]"
   ]
  },
  {
   "cell_type": "code",
   "execution_count": null,
   "id": "454fc650-3f61-4759-9302-e467e04c0bad",
   "metadata": {},
   "outputs": [],
   "source": [
    "string_3 = \"hellothisismypythoncode\"\n",
    "string_3[2:8:2]"
   ]
  },
  {
   "cell_type": "code",
   "execution_count": null,
   "id": "455c0536-fca6-454b-a238-ad94c3a1e4b7",
   "metadata": {},
   "outputs": [],
   "source": []
  },
  {
   "cell_type": "code",
   "execution_count": null,
   "id": "09d1ffc0-6806-43be-861a-38128b300ca6",
   "metadata": {},
   "outputs": [],
   "source": []
  },
  {
   "cell_type": "markdown",
   "id": "827d2f6c-4cf4-4b43-aad9-24bbcbf7d611",
   "metadata": {},
   "source": [
    "## Concatenation"
   ]
  },
  {
   "cell_type": "code",
   "execution_count": 24,
   "id": "ba7fc4a2-1872-4bb1-9657-049471511afb",
   "metadata": {},
   "outputs": [
    {
     "name": "stdout",
     "output_type": "stream",
     "text": [
      "HelloWorld\n",
      "WorldWorld\n"
     ]
    }
   ],
   "source": [
    "my_var_1 = \"Hello\"\n",
    "my_var_2 = \"World\"\n",
    "\n",
    "concat = my_var_1 + my_var_2\n",
    "\n",
    "concat1 = my_var_2 + my_var_2\n",
    "\n",
    "print(concat)\n",
    "print(concat1)"
   ]
  },
  {
   "cell_type": "code",
   "execution_count": 25,
   "id": "3fa70856-9ac3-49b3-8886-0e961fb3a1cf",
   "metadata": {},
   "outputs": [
    {
     "name": "stdout",
     "output_type": "stream",
     "text": [
      "World\n",
      "WorldWorld\n"
     ]
    }
   ],
   "source": [
    "print(my_var_2)\n",
    "print(2*my_var_2)"
   ]
  },
  {
   "cell_type": "code",
   "execution_count": 26,
   "id": "9c83da20-c34e-435b-a0e8-9884e8ee03be",
   "metadata": {},
   "outputs": [
    {
     "ename": "TypeError",
     "evalue": "can't multiply sequence by non-int of type 'float'",
     "output_type": "error",
     "traceback": [
      "\u001b[1;31m---------------------------------------------------------------------------\u001b[0m",
      "\u001b[1;31mTypeError\u001b[0m                                 Traceback (most recent call last)",
      "Cell \u001b[1;32mIn[26], line 1\u001b[0m\n\u001b[1;32m----> 1\u001b[0m \u001b[38;5;28mprint\u001b[39m(\u001b[38;5;241m2.5\u001b[39m\u001b[38;5;241m*\u001b[39mmy_var_2)\n",
      "\u001b[1;31mTypeError\u001b[0m: can't multiply sequence by non-int of type 'float'"
     ]
    }
   ],
   "source": [
    "print(2.5*my_var_2)"
   ]
  },
  {
   "cell_type": "code",
   "execution_count": 27,
   "id": "45fce4aa-784a-478a-a172-2258dba50fb4",
   "metadata": {},
   "outputs": [
    {
     "data": {
      "text/plain": [
       "\u001b[1;31mSignature:\u001b[0m \u001b[0mmy_var_2\u001b[0m\u001b[1;33m.\u001b[0m\u001b[0mcapitalize\u001b[0m\u001b[1;33m(\u001b[0m\u001b[1;33m)\u001b[0m\u001b[1;33m\u001b[0m\u001b[1;33m\u001b[0m\u001b[0m\n",
       "\u001b[1;31mDocstring:\u001b[0m\n",
       "Return a capitalized version of the string.\n",
       "\n",
       "More specifically, make the first character have upper case and the rest lower\n",
       "case.\n",
       "\u001b[1;31mType:\u001b[0m      builtin_function_or_method"
      ]
     },
     "metadata": {},
     "output_type": "display_data"
    }
   ],
   "source": [
    "?my_var_2.capitalize"
   ]
  },
  {
   "cell_type": "code",
   "execution_count": 52,
   "id": "5a3c55d7-c0e9-4a83-9e40-0912ef506f58",
   "metadata": {},
   "outputs": [
    {
     "data": {
      "text/plain": [
       "'Mcity is kigali'"
      ]
     },
     "execution_count": 52,
     "metadata": {},
     "output_type": "execute_result"
    }
   ],
   "source": [
    "my_var_4 = \"city is kigali\"\n",
    "my_var_4.center(15, 'M')"
   ]
  },
  {
   "cell_type": "code",
   "execution_count": 53,
   "id": "1b6d9964-32d3-4672-a3ee-4e7eb629c763",
   "metadata": {},
   "outputs": [
    {
     "data": {
      "text/plain": [
       "4"
      ]
     },
     "execution_count": 53,
     "metadata": {},
     "output_type": "execute_result"
    }
   ],
   "source": [
    "my_var_4.count('i')"
   ]
  },
  {
   "cell_type": "code",
   "execution_count": 54,
   "id": "806cc2e0-4d75-417d-a3dc-12cacd44ea55",
   "metadata": {},
   "outputs": [
    {
     "data": {
      "text/plain": [
       "b'city is kigali'"
      ]
     },
     "execution_count": 54,
     "metadata": {},
     "output_type": "execute_result"
    }
   ],
   "source": [
    "my_var_4.encode('utf-8')"
   ]
  },
  {
   "cell_type": "code",
   "execution_count": 55,
   "id": "12290ee6-74a2-4bec-8f42-f52bdb8cb246",
   "metadata": {},
   "outputs": [
    {
     "data": {
      "text/plain": [
       "5"
      ]
     },
     "execution_count": 55,
     "metadata": {},
     "output_type": "execute_result"
    }
   ],
   "source": [
    "my_var_4.find('is')"
   ]
  },
  {
   "cell_type": "code",
   "execution_count": 56,
   "id": "7184c25a-1eae-4d3f-8504-30971b5f46f2",
   "metadata": {},
   "outputs": [
    {
     "data": {
      "text/plain": [
       "'City is kigali'"
      ]
     },
     "execution_count": 56,
     "metadata": {},
     "output_type": "execute_result"
    }
   ],
   "source": [
    "my_var_4.capitalize()"
   ]
  },
  {
   "cell_type": "code",
   "execution_count": 57,
   "id": "dc64b609-779b-4a13-90da-f25801523069",
   "metadata": {},
   "outputs": [
    {
     "data": {
      "text/plain": [
       "<function str.casefold()>"
      ]
     },
     "execution_count": 57,
     "metadata": {},
     "output_type": "execute_result"
    }
   ],
   "source": [
    "my_var_4.casefold"
   ]
  },
  {
   "cell_type": "code",
   "execution_count": 58,
   "id": "ce107437-b608-4f06-af98-173d8effa381",
   "metadata": {},
   "outputs": [
    {
     "name": "stdout",
     "output_type": "stream",
     "text": [
      " Volume in drive C has no label.\n",
      " Volume Serial Number is E87A-06EB\n",
      "\n",
      " Directory of C:\\Users\\dja\n",
      "\n",
      "25/09/2025  11:15    <DIR>          .\n",
      "25/09/2025  11:15    <DIR>          ..\n",
      "18/08/2025  18:10    <DIR>          .anaconda\n",
      "06/09/2025  13:21             3,726 .bash_history\n",
      "23/09/2025  09:50    <DIR>          .conda\n",
      "27/07/2025  22:27                25 .condarc\n",
      "27/07/2025  22:26    <DIR>          .continuum\n",
      "22/09/2025  19:14               185 .gitconfig\n",
      "25/09/2025  10:11    <DIR>          .ipynb_checkpoints\n",
      "28/07/2025  18:44    <DIR>          .ipython\n",
      "18/08/2025  19:12    <DIR>          .jupyter\n",
      "18/08/2025  22:25    <DIR>          .matplotlib\n",
      "18/08/2025  19:13    <DIR>          .virtual_documents\n",
      "04/09/2025  19:24    <DIR>          .vscode\n",
      "14/04/2025  15:38    <DIR>          3D Objects\n",
      "29/07/2025  17:02    <DIR>          anaconda3\n",
      "18/08/2025  19:12    <DIR>          anaconda_projects\n",
      "06/09/2025  12:43    <DIR>          AY20252026\n",
      "14/04/2025  15:38    <DIR>          Contacts\n",
      "25/09/2025  10:32    <DIR>          Desktop\n",
      "23/09/2025  09:46    <DIR>          Documents\n",
      "25/09/2025  11:23    <DIR>          Downloads\n",
      "14/04/2025  15:38    <DIR>          Favorites\n",
      "14/04/2025  15:38    <DIR>          Links\n",
      "14/04/2025  15:38    <DIR>          Music\n",
      "23/09/2025  09:33    <DIR>          OneDrive\n",
      "20/09/2025  21:01    <DIR>          Pictures\n",
      "14/04/2025  15:38    <DIR>          Saved Games\n",
      "14/04/2025  15:40    <DIR>          Searches\n",
      "30/07/2025  20:08             2,535 Untitled.ipynb\n",
      "03/08/2025  21:08               337 Untitled1.ipynb\n",
      "18/08/2025  19:16                72 Untitled2.ipynb\n",
      "18/08/2025  19:21                72 Untitled3.ipynb\n",
      "18/08/2025  19:23                72 Untitled4.ipynb\n",
      "25/09/2025  11:15             9,885 Untitled5.ipynb\n",
      "06/09/2025  03:27             6,775 uwituze_djadida_ICL1.sh\n",
      "10/06/2025  19:30    <DIR>          Videos\n",
      "              10 File(s)         23,684 bytes\n",
      "              27 Dir(s)  404,727,828,480 bytes free\n"
     ]
    }
   ],
   "source": [
    "!dir"
   ]
  },
  {
   "cell_type": "code",
   "execution_count": 1,
   "id": "142ea7be-48af-4f82-8c64-b2e96236fcc1",
   "metadata": {},
   "outputs": [
    {
     "name": "stdout",
     "output_type": "stream",
     "text": [
      " Volume in drive C has no label.\n",
      " Volume Serial Number is E87A-06EB\n",
      "\n",
      " Directory of C:\\Users\\dja\\Desktop\\python_course\\notebooks_lecture_notes\n",
      "\n",
      "25/09/2025  11:28    <DIR>          .\n",
      "25/09/2025  11:28    <DIR>          ..\n",
      "25/09/2025  11:28    <DIR>          .ipynb_checkpoints\n",
      "23/09/2025  09:54             6,021 command_mode.png\n",
      "23/09/2025  16:30            55,574 Djadida.jpeg\n",
      "23/09/2025  09:54             6,030 edit_mode.png\n",
      "23/09/2025  09:54           194,094 Emily.png\n",
      "23/09/2025  19:08            96,931 Latifa.jpeg\n",
      "23/09/2025  09:54            17,311 menubar_toolbar.png\n",
      "23/09/2025  19:15            55,787 PyPro-SCiDaS-day_00_introduction_to_jupyter_notebooks.ipynb\n",
      "24/09/2025  23:25            66,457 PyPro-SCiDaS-day_01a_introduction_to_python.ipynb\n",
      "24/09/2025  11:28            83,858 PyPro-SCiDaS-day_01b_variables-and-assignment.ipynb\n",
      "25/09/2025  11:28            12,597 Untitled5.ipynb\n",
      "              10 File(s)        594,660 bytes\n",
      "               3 Dir(s)  404,721,438,720 bytes free\n"
     ]
    }
   ],
   "source": [
    "!dir"
   ]
  },
  {
   "cell_type": "code",
   "execution_count": 2,
   "id": "a2405551-d9db-4a61-9fc8-c02507335a9a",
   "metadata": {},
   "outputs": [
    {
     "name": "stdout",
     "output_type": "stream",
     "text": [
      " Volume in drive C has no label.\n",
      " Volume Serial Number is E87A-06EB\n",
      "\n",
      " Directory of C:\\Users\\dja\\Desktop\\python_course\\notebooks_lecture_notes\n",
      "\n",
      "25/09/2025  11:30    <DIR>          .\n",
      "25/09/2025  11:30    <DIR>          ..\n",
      "25/09/2025  11:30    <DIR>          .ipynb_checkpoints\n",
      "23/09/2025  09:54             6,021 command_mode.png\n",
      "23/09/2025  16:30            55,574 Djadida.jpeg\n",
      "23/09/2025  09:54             6,030 edit_mode.png\n",
      "23/09/2025  09:54           194,094 Emily.png\n",
      "23/09/2025  19:08            96,931 Latifa.jpeg\n",
      "23/09/2025  09:54            17,311 menubar_toolbar.png\n",
      "23/09/2025  19:15            55,787 PyPro-SCiDaS-day_00_introduction_to_jupyter_notebooks.ipynb\n",
      "24/09/2025  23:25            66,457 PyPro-SCiDaS-day_01a_introduction_to_python.ipynb\n",
      "24/09/2025  11:28            83,858 PyPro-SCiDaS-day_01b_variables-and-assignment.ipynb\n",
      "25/09/2025  11:19                48 textfile.txt\n",
      "25/09/2025  11:30            14,085 Untitled5.ipynb\n",
      "              11 File(s)        596,196 bytes\n",
      "               3 Dir(s)  404,721,176,576 bytes free\n"
     ]
    }
   ],
   "source": [
    "!dir"
   ]
  },
  {
   "cell_type": "code",
   "execution_count": 3,
   "id": "9bb7afa5-4bcd-4d4a-b2ef-72ae1a8490c1",
   "metadata": {},
   "outputs": [],
   "source": [
    "# %load textfile.txt\n",
    "fghij\n",
    "aims class\n",
    "Rwanda 2025\n",
    "this is really cool"
   ]
  },
  {
   "cell_type": "code",
   "execution_count": 5,
   "id": "73d1498a-8f7b-4a7c-8cc1-264e35976ab1",
   "metadata": {},
   "outputs": [
    {
     "data": {
      "text/plain": [
       "'fghij\\naims class\\nRwanda 2025\\nthis is really cool'"
      ]
     },
     "execution_count": 5,
     "metadata": {},
     "output_type": "execute_result"
    }
   ],
   "source": [
    "file = open('textfile.txt', \"r\")\n",
    "file.read()"
   ]
  },
  {
   "cell_type": "code",
   "execution_count": 6,
   "id": "3b266921-27df-4341-9da8-1ee043c5f8a0",
   "metadata": {},
   "outputs": [],
   "source": [
    "file.close()"
   ]
  },
  {
   "cell_type": "code",
   "execution_count": 7,
   "id": "00a221fd-0d14-4d64-885c-827d0371e18a",
   "metadata": {},
   "outputs": [
    {
     "ename": "ValueError",
     "evalue": "I/O operation on closed file.",
     "output_type": "error",
     "traceback": [
      "\u001b[1;31m---------------------------------------------------------------------------\u001b[0m",
      "\u001b[1;31mValueError\u001b[0m                                Traceback (most recent call last)",
      "Cell \u001b[1;32mIn[7], line 1\u001b[0m\n\u001b[1;32m----> 1\u001b[0m file\u001b[38;5;241m.\u001b[39mread()\n",
      "\u001b[1;31mValueError\u001b[0m: I/O operation on closed file."
     ]
    }
   ],
   "source": [
    "file.read()"
   ]
  },
  {
   "cell_type": "code",
   "execution_count": 10,
   "id": "f0b29283-3b76-443d-b86f-aacf47cf464e",
   "metadata": {},
   "outputs": [],
   "source": [
    "file = open('textfile.txt', \"w\")\n",
    "file.write(\"Hello kigali\\n\")\n",
    "file.write(\"My city\")\n",
    "file.close()"
   ]
  },
  {
   "cell_type": "code",
   "execution_count": 11,
   "id": "a7d0b306-d179-4886-b73b-5da3ea6bb925",
   "metadata": {},
   "outputs": [
    {
     "data": {
      "text/plain": [
       "['Hello kigali\\n', 'My city']"
      ]
     },
     "execution_count": 11,
     "metadata": {},
     "output_type": "execute_result"
    }
   ],
   "source": [
    "file = open('textfile.txt', \"r\")\n",
    "file.readlines()"
   ]
  },
  {
   "cell_type": "code",
   "execution_count": 12,
   "id": "0942a0de-42ff-4781-ac5e-bf0a71debacc",
   "metadata": {},
   "outputs": [
    {
     "name": "stdout",
     "output_type": "stream",
     "text": [
      "1.0\n"
     ]
    }
   ],
   "source": [
    "x = 10 \n",
    "x = x / 2 \n",
    "x = x // 3 \n",
    "print(x)"
   ]
  },
  {
   "cell_type": "code",
   "execution_count": null,
   "id": "b3e03b56-186b-4a0f-b875-34c72618da99",
   "metadata": {},
   "outputs": [],
   "source": []
  }
 ],
 "metadata": {
  "kernelspec": {
   "display_name": "Python [conda env:base] *",
   "language": "python",
   "name": "conda-base-py"
  },
  "language_info": {
   "codemirror_mode": {
    "name": "ipython",
    "version": 3
   },
   "file_extension": ".py",
   "mimetype": "text/x-python",
   "name": "python",
   "nbconvert_exporter": "python",
   "pygments_lexer": "ipython3",
   "version": "3.13.5"
  }
 },
 "nbformat": 4,
 "nbformat_minor": 5
}
